{
  "nbformat": 4,
  "nbformat_minor": 0,
  "metadata": {
    "colab": {
      "provenance": [],
      "authorship_tag": "ABX9TyNOjVhrAPaM9SA7qcm28kHL",
      "include_colab_link": true
    },
    "kernelspec": {
      "name": "python3",
      "display_name": "Python 3"
    },
    "language_info": {
      "name": "python"
    }
  },
  "cells": [
    {
      "cell_type": "markdown",
      "metadata": {
        "id": "view-in-github",
        "colab_type": "text"
      },
      "source": [
        "<a href=\"https://colab.research.google.com/github/shaima-98/Predicting_Credit_Card_Approval/blob/main/Capstone_project.ipynb\" target=\"_parent\"><img src=\"https://colab.research.google.com/assets/colab-badge.svg\" alt=\"Open In Colab\"/></a>"
      ]
    },
    {
      "cell_type": "markdown",
      "source": [
        "\n",
        "# **Project Proposal: Predicting Credit Card Approval**"
      ],
      "metadata": {
        "id": "HoX6UDpLgnGL"
      }
    },
    {
      "cell_type": "markdown",
      "source": [
        "***Section 1: Questions to Answer***\n",
        "\n",
        "**Importance**:\n",
        "In today's world, accurate credit card approval is crucial for banks to mitigate risks and make informed decisions. Predicting a customer's creditworthiness helps banks manage their portfolio effectively, reduce defaults and tailor credit offerings to different segments. This not only enhances financial stability but also improves customer satisfaction.\n",
        "\n",
        "**Impact on Banking Sector**:\n",
        "Implementing an accurate credit card approval model can significantly impact the banking sector by:\n",
        "\n",
        "Reducing default rates and associated financial losses.\n",
        "Improving customer satisfaction through personalized credit offerings.\n",
        "Streamlining the credit approval process, making it more efficient and cost-effective.\n",
        "\n",
        "**Knowledge Gap**:\n",
        "The proposed method fills the gap in traditional credit scoring models by incorporating advanced machine learning techniques. This approach can be beneficial for any bank in India or globally, offering a more accurate and adaptive solution for credit assessment."
      ],
      "metadata": {
        "id": "8_CCGPJNhF1V"
      }
    },
    {
      "cell_type": "markdown",
      "source": [
        "***Section 2: Initial Hypothesis***\n",
        "\n",
        "**Hypotheses**:\n",
        "Annual income, employment status, and education level will strongly influence credit card approval.\n",
        "\n",
        "Customers with property ownership and stable employment are more likely to have their credit card applications approved.\n",
        "\n",
        "Income type, such as business income, might lead to higher credit approval rates."
      ],
      "metadata": {
        "id": "glcGXLzNI2Cw"
      }
    },
    {
      "cell_type": "markdown",
      "source": [
        "***Section 3: Data Analysis Approach***\n",
        "\n",
        "**Approach**:\n",
        "Exploratory Data Analysis (EDA): Identify correlations, outliers, and patterns in the data.\n",
        "\n",
        "**Feature Engineering**: Transform and create features to enhance model performance.\n",
        "\n",
        "**Visualization**: Use graphs and charts to illustrate relationships and patterns in the data."
      ],
      "metadata": {
        "id": "BA789nwXJBE9"
      }
    },
    {
      "cell_type": "markdown",
      "source": [
        "***Section 4: Machine Learning Approach***\n",
        "\n",
        "**Machine Learning Method**:\n",
        "\n",
        "Utilize a combination of the following models:\n",
        "\n",
        "1. Logistic Regression\n",
        "2. Random Forest\n",
        "3. Gradient Boosting\n",
        "4. Support Vector Machines (SVM)\n",
        "\n",
        "**Justification**:\n",
        "Logistic Regression: Simplicity and interpretability for initial exploration.\n",
        "Random Forest and Gradient Boosting: Capture non-linear relationships and improve accuracy.\n",
        "SVM: Handle complex decision boundaries.\n",
        "\n",
        "**Model Improvement Steps**:\n",
        "Hyperparameter Tuning: Optimize model parameters for better performa"
      ],
      "metadata": {
        "id": "27F15E9oJQzw"
      }
    },
    {
      "cell_type": "markdown",
      "source": [
        "# SQL Queries"
      ],
      "metadata": {
        "id": "7Py3pIJXJ8Tx"
      }
    },
    {
      "cell_type": "code",
      "source": [
        "import sqlite3\n",
        "\n",
        "# Connect to the SQLite database (or create a new one if it doesn't exist)\n",
        "conn = sqlite3.connect('odin_project.db')\n",
        "# Create a cursor object to interact with the database\n",
        "cursor = conn.cursor()\n"
      ],
      "metadata": {
        "id": "AIOjiBJdy3ex"
      },
      "execution_count": 35,
      "outputs": []
    },
    {
      "cell_type": "code",
      "source": [
        "\n",
        "# Create a table\n",
        "cursor.execute('''\n",
        "    CREATE TABLE project_table (\n",
        "    Ind_ID INT,\n",
        "    GENDER VARCHAR(10),\n",
        "    Car_Owner VARCHAR(3),\n",
        "    Propert_Owner VARCHAR(3),\n",
        "    CHILDREN INT,\n",
        "    Annual_income DECIMAL(18,2),\n",
        "    Type_Income VARCHAR(20),\n",
        "    EDUCATION VARCHAR(50),\n",
        "    Marital_status VARCHAR(20),\n",
        "    Housing_type VARCHAR(20),\n",
        "    Birthday_count INT,\n",
        "    Employed_days INT,\n",
        "    Mobile_phone VARCHAR(15),\n",
        "    Work_Phone VARCHAR(15),\n",
        "    Phone VARCHAR(15),\n",
        "    EMAIL_ID VARCHAR(255),\n",
        "    Type_Occupation VARCHAR(50),\n",
        "    Family_Members INT\n",
        ");\n",
        "''')\n"
      ],
      "metadata": {
        "id": "LBtnjtuLy6eo"
      },
      "execution_count": null,
      "outputs": []
    },
    {
      "cell_type": "code",
      "source": [
        "# Insert data into the table\n",
        "import csv\n",
        "with open('/content/Credit_card.csv', 'r') as csv_file:\n",
        "    csv_reader = csv.DictReader(csv_file)\n",
        "    for row in csv_reader:\n",
        "        cursor.execute('''\n",
        "            INSERT INTO project_table (\n",
        "                Ind_ID, GENDER, Car_Owner, Propert_Owner, CHILDREN, Annual_income,\n",
        "                Type_Income, EDUCATION, Marital_status, Housing_type, Birthday_count,\n",
        "                Employed_days, Mobile_phone, Work_Phone, Phone, EMAIL_ID,\n",
        "                Type_Occupation, Family_Members\n",
        "            ) VALUES (?, ?, ?, ?, ?, ?, ?, ?, ?, ?, ?, ?, ?, ?, ?, ?, ?, ?)\n",
        "        ''', ( row['Ind_ID'], row['GENDER'], row['Car_Owner'], row['Propert_Owner'],\n",
        "            row['CHILDREN'], row['Annual_income'], row['Type_Income'],\n",
        "            row['EDUCATION'], row['Marital_status'], row['Housing_type'],\n",
        "            row['Birthday_count'], row['Employed_days'], row['Mobile_phone'],\n",
        "            row['Work_Phone'], row['Phone'], row['EMAIL_ID'],\n",
        "            row['Type_Occupation'], row['Family_Members']))\n",
        "conn.commit()"
      ],
      "metadata": {
        "id": "l4b7QeCg12SE"
      },
      "execution_count": 76,
      "outputs": []
    },
    {
      "cell_type": "code",
      "source": [
        "# Print all the rows\n",
        "cursor.execute('''\n",
        "SELECT * FROM project_table\n",
        "''')\n",
        "conn.commit()\n",
        "rows = cursor.fetchall()\n",
        "for row in rows:\n",
        "    print(row)"
      ],
      "metadata": {
        "id": "xqsZB7tp3crN"
      },
      "execution_count": null,
      "outputs": []
    },
    {
      "cell_type": "markdown",
      "source": [
        "**Grouping Customers:**"
      ],
      "metadata": {
        "id": "wu9UsfGn4y59"
      }
    },
    {
      "cell_type": "code",
      "source": [
        "cursor.execute('''\n",
        "SELECT Type_Income, AVG(Annual_income) AS Avg_Income\n",
        "FROM project_table\n",
        "GROUP BY Type_Income;\n",
        "''')\n",
        "conn.commit()\n",
        "rows1 = cursor.fetchall()\n",
        "rows1\n"
      ],
      "metadata": {
        "colab": {
          "base_uri": "https://localhost:8080/"
        },
        "id": "CwhBiCJv7Zuw",
        "outputId": "203df6d9-5f8c-4b46-df78-389cd957fde8"
      },
      "execution_count": 95,
      "outputs": [
        {
          "output_type": "execute_result",
          "data": {
            "text/plain": [
              "[('Commercial associate', 229458.08219178082),\n",
              " ('Pensioner', 152867.6598513011),\n",
              " ('State servant', 211422.41379310345),\n",
              " ('Working', 178553.09774436092)]"
            ]
          },
          "metadata": {},
          "execution_count": 95
        }
      ]
    },
    {
      "cell_type": "markdown",
      "source": [
        "**Females who are car and property owners:**"
      ],
      "metadata": {
        "id": "6eYd2R1k4-cz"
      }
    },
    {
      "cell_type": "code",
      "source": [
        "cursor.execute('''\n",
        "SELECT *\n",
        "FROM project_table\n",
        "WHERE GENDER = 'F' AND (Car_owner = \"Y\" AND Propert_owner = \"Y\");\n",
        "''')\n",
        "conn.commit()\n",
        "rows2 = cursor.fetchall()\n",
        "for row in rows2:\n",
        "  print(row)"
      ],
      "metadata": {
        "id": "qY08BFbb8Qs6"
      },
      "execution_count": null,
      "outputs": []
    },
    {
      "cell_type": "markdown",
      "source": [
        "**Male Customers Staying with Families:**"
      ],
      "metadata": {
        "id": "wKcPoa2K5Ky1"
      }
    },
    {
      "cell_type": "code",
      "source": [
        "cursor.execute('''\n",
        "SELECT *\n",
        "FROM project_table\n",
        "WHERE Gender = 'M' AND Marital_status = 'Married' AND Family_Members > 1;\n",
        "''')\n",
        "conn.commit()\n",
        "rows3 = cursor.fetchall()\n",
        "for row in rows3:\n",
        "  print(row)"
      ],
      "metadata": {
        "id": "vBujImMI8Rl5"
      },
      "execution_count": null,
      "outputs": []
    },
    {
      "cell_type": "markdown",
      "source": [
        "**Top Five Highest Incomes:**"
      ],
      "metadata": {
        "id": "Uq7ur8Uq5Lmk"
      }
    },
    {
      "cell_type": "code",
      "source": [
        "cursor.execute('''\n",
        "SELECT *\n",
        "FROM project_table\n",
        "ORDER BY Annual_income DESC\n",
        "LIMIT 5;\n",
        "\n",
        "''')\n",
        "conn.commit()\n",
        "rows4 = cursor.fetchall()\n",
        "for row in rows4:\n",
        "  print(row)"
      ],
      "metadata": {
        "colab": {
          "base_uri": "https://localhost:8080/"
        },
        "id": "NBvfMAcnAM_J",
        "outputId": "747bb083-ddf9-41df-cb7e-783706072f28"
      },
      "execution_count": 111,
      "outputs": [
        {
          "output_type": "stream",
          "name": "stdout",
          "text": [
            "(5009749, 'F', 'Y', 'N', 0, '', 'Commercial associate', 'Higher education', 'Married', 'House / apartment', -13557, -586, '1', '1', '1', '0', '', 2)\n",
            "(5018501, 'F', 'Y', 'Y', 0, '', 'Working', 'Secondary / secondary special', 'Married', 'House / apartment', -18950, -1002, '1', '1', '1', '0', 'Cooking staff', 2)\n",
            "(5024917, 'F', 'N', 'Y', 0, '', 'Pensioner', 'Secondary / secondary special', 'Married', 'House / apartment', -21832, 365243, '1', '0', '1', '0', '', 2)\n",
            "(5058348, 'F', 'N', 'Y', 0, '', 'Pensioner', 'Higher education', 'Separated', 'House / apartment', -24611, 365243, '1', '0', '0', '0', '', 1)\n",
            "(5062137, 'M', 'N', 'Y', 1, '', 'Working', 'Secondary / secondary special', 'Single / not married', 'House / apartment', -12947, -137, '1', '0', '0', '0', 'Laborers', 2)\n"
          ]
        }
      ]
    },
    {
      "cell_type": "code",
      "source": [
        "# Creating the second table\n",
        "cursor.execute('''\n",
        "CREATE TABLE Credit_card_lable (\n",
        "    Ind_ID INT PRIMARY KEY,\n",
        "    label INT NOT NULL\n",
        ");\n",
        "''')\n",
        "conn.commit()"
      ],
      "metadata": {
        "id": "X5ZVrQQvC7uh"
      },
      "execution_count": null,
      "outputs": []
    },
    {
      "cell_type": "code",
      "source": [
        "# Insert data into the table\n",
        "with open('/content/Credit_card_label.csv', 'r') as csv_file:\n",
        "    csv_reader = csv.DictReader(csv_file)\n",
        "    for row in csv_reader:\n",
        "        cursor.execute('''\n",
        "            INSERT INTO Credit_card_lable (\n",
        "                Ind_ID ,label\n",
        "            ) VALUES (?, ?)\n",
        "        ''', ( row['Ind_ID'], row['label']))\n",
        "conn.commit()"
      ],
      "metadata": {
        "id": "n82ovkLOEsZM"
      },
      "execution_count": 127,
      "outputs": []
    },
    {
      "cell_type": "markdown",
      "source": [
        "**Number of Married People with Bad Credit:**"
      ],
      "metadata": {
        "id": "btpVQ79X5ptp"
      }
    },
    {
      "cell_type": "code",
      "source": [
        "cursor.execute('''\n",
        "SELECT COUNT(*)\n",
        "FROM project_table\n",
        "JOIN Credit_card_lable ON project_table.Ind_ID = Credit_card_lable.Ind_ID\n",
        "WHERE Marital_status = 'Married' AND label = 0;\n",
        "''')\n",
        "conn.commit()\n",
        "rows5 = cursor.fetchall()\n",
        "rows5[0][0]"
      ],
      "metadata": {
        "colab": {
          "base_uri": "https://localhost:8080/"
        },
        "id": "sydDiOqBFckl",
        "outputId": "3ac39367-20ef-4635-9118-3f269168902d"
      },
      "execution_count": 139,
      "outputs": [
        {
          "output_type": "execute_result",
          "data": {
            "text/plain": [
              "114"
            ]
          },
          "metadata": {},
          "execution_count": 139
        }
      ]
    },
    {
      "cell_type": "markdown",
      "source": [
        "**Highest Education Level and Count:**"
      ],
      "metadata": {
        "id": "j92H-oS96ABB"
      }
    },
    {
      "cell_type": "code",
      "source": [
        "cursor.execute('''\n",
        "SELECT Education, COUNT(*)\n",
        "FROM project_table\n",
        "GROUP BY Education\n",
        "ORDER BY COUNT(*) DESC\n",
        "LIMIT 1;\n",
        "''')\n",
        "conn.commit()\n",
        "rows6 = cursor.fetchall()\n",
        "for row in rows6:\n",
        "  print(row)"
      ],
      "metadata": {
        "colab": {
          "base_uri": "https://localhost:8080/"
        },
        "id": "BEYn-rQiHHON",
        "outputId": "e858f7b8-0a72-42c3-9d97-9a5f08899cb6"
      },
      "execution_count": 142,
      "outputs": [
        {
          "output_type": "stream",
          "name": "stdout",
          "text": [
            "('Secondary / secondary special', 1031)\n"
          ]
        }
      ]
    },
    {
      "cell_type": "markdown",
      "source": [
        "**Bad Credit Comparison between Married Males and Females:**"
      ],
      "metadata": {
        "id": "cGZgJXBD6L-c"
      }
    },
    {
      "cell_type": "code",
      "source": [
        "cursor.execute('''\n",
        "SELECT Marital_status, Gender, COUNT(*)\n",
        "FROM project_table\n",
        "JOIN Credit_card_lable ON project_table.Ind_ID = Credit_card_lable.Ind_ID\n",
        "WHERE label = 1 AND Marital_status = 'Married'\n",
        "GROUP BY Marital_status, Gender\n",
        "ORDER BY COUNT(*) DESC\n",
        "LIMIT 1;\n",
        "''')\n",
        "conn.commit()\n",
        "rows7 = cursor.fetchall()\n",
        "for row in rows7:\n",
        "  print(row)"
      ],
      "metadata": {
        "colab": {
          "base_uri": "https://localhost:8080/"
        },
        "id": "-Xzktxs_Jhth",
        "outputId": "461dd459-0d95-4ff0-9237-ab78baafb61b"
      },
      "execution_count": 145,
      "outputs": [
        {
          "output_type": "stream",
          "name": "stdout",
          "text": [
            "('Married', 'F', 59)\n"
          ]
        }
      ]
    }
  ]
}